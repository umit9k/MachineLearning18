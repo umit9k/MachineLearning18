{
 "cells": [
  {
   "cell_type": "code",
   "execution_count": null,
   "metadata": {},
   "outputs": [],
   "source": [
    "#Task 3 Umit"
   ]
  },
  {
   "cell_type": "code",
   "execution_count": 44,
   "metadata": {},
   "outputs": [
    {
     "data": {
      "image/png": "[encoded data removed]",
      "text/plain": [
       "<Figure size 432x288 with 1 Axes>"
      ]
     },
     "metadata": {},
     "output_type": "display_data"
    }
   ],
   "source": [
    "%matplotlib inline\n",
    "\n",
    "import numpy as np\n",
    "from matplotlib import pyplot as plt\n",
    "\n",
    "def f(x):\n",
    "    return np.sin(x/5)*np.exp(x/10)+5*np.exp(-x/2)\n",
    "\n",
    "x = np.arange(1, 30, 1)\n",
    "y = f(x)\n",
    "plt.plot(x, y)\n",
    "plt.show()"
   ]
  },
  {
   "cell_type": "code",
   "execution_count": 37,
   "metadata": {},
   "outputs": [
    {
     "name": "stdout",
     "output_type": "stream",
     "text": [
      "4.14 4.14 4.14 4.14 4.14 4.14 4.14 4.14 4.14 4.14 25.88 25.88 88.71 25.88 24.68 25.88 25.88 25.88 25.88 25.88 25.88 25.88 25.88 25.88 25.88 25.88 25.88 25.88 25.88 25.88 "
     ]
    }
   ],
   "source": [
    "from scipy.optimize import minimize\n",
    "for i in range(1, 31):\n",
    "    print(round(minimize(f, i).x[0], 2), end=' ')"
   ]
  },
  {
   "cell_type": "code",
   "execution_count": 45,
   "metadata": {},
   "outputs": [
    {
     "name": "stdout",
     "output_type": "stream",
     "text": [
      "      fun: 1.7452682903447336\n",
      " hess_inv: array([[5.98752645]])\n",
      "      jac: array([-2.04145908e-06])\n",
      "  message: 'Optimization terminated successfully.'\n",
      "     nfev: 21\n",
      "      nit: 6\n",
      "     njev: 7\n",
      "   status: 0\n",
      "  success: True\n",
      "        x: array([4.13627628]) \n",
      "\n",
      "1.745268290344923 1.75\n"
     ]
    }
   ],
   "source": [
    "print(minimize(f, 2, method='BFGS'), \"\\n\")\n",
    "print(f(4.13627619), round(f(4.13627619),2))"
   ]
  },
  {
   "cell_type": "code",
   "execution_count": 46,
   "metadata": {},
   "outputs": [
    {
     "name": "stdout",
     "output_type": "stream",
     "text": [
      "      fun: -11.898894665981313\n",
      " hess_inv: array([[1.67936744]])\n",
      "      jac: array([0.])\n",
      "  message: 'Optimization terminated successfully.'\n",
      "     nfev: 21\n",
      "      nit: 6\n",
      "     njev: 7\n",
      "   status: 0\n",
      "  success: True\n",
      "        x: array([25.88019321]) \n",
      "\n",
      "-11.898894665981322 -11.9\n"
     ]
    }
   ],
   "source": [
    "print(minimize(f, 30, method='BFGS'), \"\\n\")\n",
    "print(f(25.880193), round(f(25.880193) ,2))"
   ]
  }
 ],
 "metadata": {
  "kernelspec": {
   "display_name": "Python 3",
   "language": "python",
   "name": "python3"
  },
  "language_info": {
   "codemirror_mode": {
    "name": "ipython",
    "version": 3
   },
   "file_extension": ".py",
   "mimetype": "text/x-python",
   "name": "python",
   "nbconvert_exporter": "python",
   "pygments_lexer": "ipython3",
   "version": "3.6.5"
  }
 },
 "nbformat": 4,
 "nbformat_minor": 2
}
