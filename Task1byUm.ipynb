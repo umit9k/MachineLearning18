{
 "cells": [
  {
   "cell_type": "code",
   "execution_count": null,
   "metadata": {},
   "outputs": [],
   "source": [
    "#Task 1 Umit"
   ]
  },
  {
   "cell_type": "code",
   "execution_count": 36,
   "metadata": {},
   "outputs": [
    {
     "name": "stdout",
     "output_type": "stream",
     "text": [
      "in comparison to dogs, cats have not undergone major changes during the domestication process.\n",
      "as cat simply catenates streams of bytes, it can be also used to concatenate binary files, where it will just concatenate sequence of bytes.\n",
      "a common interactive use of cat for a single file is to output the content of a file to standard output.\n",
      "cats can hear sounds too faint or too high in frequency for human ears, such as those made by mice and other small animals.\n",
      "in one, people deliberately tamed cats in a process of artificial selection, as they were useful predators of vermin.\n",
      "the domesticated cat and its closest wild ancestor are both diploid organisms that possess 38 chromosomes and roughly 20,000 genes.\n",
      "domestic cats are similar in size to the other members of the genus felis, typically weighing between 4 and 5 kg (8.8 and 11.0 lb).\n",
      "however, if the output is piped or redirected, cat is unnecessary.\n",
      "cat with one named file is safer where human error is a concern - one wrong use of the default redirection symbol \">\" instead of \"<\" (often adjacent on keyboards) may permanently delete the file you were just needing to read.\n",
      "in terms of legibility, a sequence of commands starting with cat and connected by pipes has a clear left-to-right flow of information.\n",
      "cat command is one of the basic commands that you learned when you started in the unix / linux world.\n",
      "using cat command, the lines received from stdin can be redirected to a new file using redirection symbols.\n",
      "when you type simply cat command without any arguments, it just receives the stdin content and displays it in the stdout.\n",
      "leopard was released on october 26, 2007 as the successor of tiger (version 10.4), and is available in two editions.\n",
      "according to apple, leopard contains over 300 changes and enhancements over its predecessor, mac os x tiger.\n",
      "as of mid 2010, some apple computers have firmware factory installed which will no longer allow installation of mac os x leopard.\n",
      "since apple moved to using intel processors in their computers, the osx86 community has developed and now also allows mac os x tiger and later releases to be installed on non-apple x86-based computers.\n",
      "os x mountain lion was released on july 25, 2012 for purchase and download through apple's mac app store, as part of a switch to releasing os x versions online and every year.\n",
      "apple has released a small patch for the three most recent versions of safari running on os x yosemite, mavericks, and mountain lion.\n",
      "the mountain lion release marks the second time apple has offered an incremental upgrade, rather than releasing a new cat entirely.\n",
      "mac os x mountain lion installs in place, so you won't need to create a separate disk or run the installation off an external drive.\n",
      "the fifth major update to mac os x, leopard, contains such a mountain of features - more than 300 by apple's count. \n",
      "\n",
      "The total number of sentences:  22\n"
     ]
    }
   ],
   "source": [
    "#Step 1,2\n",
    "#Считываем с файла, записываем данные в массив; все слова в строчном формате, записываем в единую строку\n",
    "import re\n",
    "\n",
    "text = open('sentences.txt', 'r')\n",
    "readText = 'null'\n",
    "emptyArr = []\n",
    "lowerStr = ''\n",
    "n = 0\n",
    "\n",
    "while(readText != ''):\n",
    "    readText = text.readline()\n",
    "    emptyArr.append(re.split('[^a-z]', readText.lower()))\n",
    "    lowerStr += readText.lower()  \n",
    "    n = n+1\n",
    "n = n-1\n",
    "print(lowerStr, '\\n')\n",
    "print(\"The total number of sentences: \", n)"
   ]
  },
  {
   "cell_type": "code",
   "execution_count": 37,
   "metadata": {},
   "outputs": [
    {
     "name": "stdout",
     "output_type": "stream",
     "text": [
      "['comparison', 'dogs', 'not', 'undergone', 'changes', 'during', 'domestication', 'catenates', 'streams', 'bytes', 'can', 'used', 'binary', 'files', 'concatenate', 'bytes', 'common', 'interactive', 'single', 'standard', 'can', 'hear', 'sounds', 'faint', 'too', 'high', 'frequency', 'ears', 'those', 'made', 'mice', 'animals', 'people', 'deliberately', 'tamed', 'process', 'artificial', 'selection', 'they', 'were', 'useful', 'predators', 'vermin', 'domesticated', 'closest', 'wild', 'ancestor', 'both', 'diploid', 'organisms', 'possess', 'chromosomes', 'roughly', 'genes', 'domestic', 'cats', 'are', 'similar', 'size', 'other', 'members', 'genus', 'felis', 'typically', 'weighing', 'between', 'kg', 'lb', 'however', 'if', 'output', 'piped', 'unnecessary', 'named', 'safer', 'where', 'human', 'error', 'concern', 'wrong', 'use', 'default', 'symbol', 'instead', 'often', 'adjacent', 'keyboards', 'may', 'permanently', 'delete', 'were', 'needing', 'read', 'terms', 'legibility', 'sequence', 'starting', 'with', 'connected', 'pipes', 'clear', 'left', 'right', 'flow', 'information', 'one', 'basic', 'commands', 'that', 'learned', 'started', 'unix', 'linux', 'world', 'lines', 'received', 'from', 'can', 'redirected', 'file', 'redirection', 'symbols', 'when', 'type', 'simply', 'command', 'without', 'any', 'arguments', 'just', 'receives', 'stdin', 'content', 'displays', 'it', 'stdout', 'october', 'successor', 'version', 'is', 'available', 'two', 'editions', 'according', 'changes', 'enhancements', 'over', 'its', 'predecessor', 'mid', 'some', 'have', 'firmware', 'factory', 'which', 'will', 'no', 'longer', 'allow', 'since', 'moved', 'using', 'intel', 'processors', 'their', 'osx', 'community', 'developed', 'now', 'also', 'allows', 'tiger', 'later', 'releases', 'be', 'installed', 'non', 'based', 'computers', 'was', 'july', 'purchase', 'download', 'through', 'app', 'store', 'as', 'part', 'switch', 'online', 'every', 'year', 'released', 'small', 'patch', 'for', 'three', 'most', 'recent', 'versions', 'safari', 'running', 'on', 'yosemite', 'mavericks', 'and', 'release', 'marks', 'second', 'time', 'has', 'offered', 'incremental', 'upgrade', 'rather', 'releasing', 'new', 'cat', 'entirely', 'lion', 'installs', 'in', 'place', 'so', 'you', 'won', 't', 'need', 'create', 'separate', 'disk', 'or', 'run', 'installation', 'off', 'an', 'external', 'drive', 'the', 'fifth', 'major', 'update', 'to', 'mac', 'os', 'x', 'leopard', 'contains', 'such', 'a', 'mountain', 'of', 'features', 'more', 'than', 'by', 'apple', 's', 'count'] \n",
      "\n",
      "The total number of unique words:  259\n"
     ]
    }
   ],
   "source": [
    "#Step 3\n",
    "#Получилось 259 уникальных элементов вместо 254 так, как слова с апострофами, например: won't, разделились на 2.\n",
    "\n",
    "uniqueWord = 0\n",
    "\n",
    "lowerStr = re.split('[^a-z]', lowerStr)\n",
    "\n",
    "for w in lowerStr:\n",
    "    while (lowerStr.count(w) > 1):\n",
    "        lowerStr.remove(w)\n",
    "lowerStr.remove('')\n",
    "uniqueWord = len(lowerStr)\n",
    "\n",
    "print(lowerStr, '\\n')\n",
    "print(\"The total number of unique words: \", uniqueWord)\n"
   ]
  },
  {
   "cell_type": "code",
   "execution_count": 38,
   "metadata": {},
   "outputs": [
    {
     "name": "stdout",
     "output_type": "stream",
     "text": [
      "{0: 'comparison', 1: 'dogs', 2: 'not', 3: 'undergone', 4: 'changes', 5: 'during', 6: 'domestication', 7: 'catenates', 8: 'streams', 9: 'bytes', 10: 'can', 11: 'used', 12: 'binary', 13: 'files', 14: 'concatenate', 15: 'bytes', 16: 'common', 17: 'interactive', 18: 'single', 19: 'standard', 20: 'can', 21: 'hear', 22: 'sounds', 23: 'faint', 24: 'too', 25: 'high', 26: 'frequency', 27: 'ears', 28: 'those', 29: 'made', 30: 'mice', 31: 'animals', 32: 'people', 33: 'deliberately', 34: 'tamed', 35: 'process', 36: 'artificial', 37: 'selection', 38: 'they', 39: 'were', 40: 'useful', 41: 'predators', 42: 'vermin', 43: 'domesticated', 44: 'closest', 45: 'wild', 46: 'ancestor', 47: 'both', 48: 'diploid', 49: 'organisms', 50: 'possess', 51: 'chromosomes', 52: 'roughly', 53: 'genes', 54: 'domestic', 55: 'cats', 56: 'are', 57: 'similar', 58: 'size', 59: 'other', 60: 'members', 61: 'genus', 62: 'felis', 63: 'typically', 64: 'weighing', 65: 'between', 66: 'kg', 67: 'lb', 68: 'however', 69: 'if', 70: 'output', 71: 'piped', 72: 'unnecessary', 73: 'named', 74: 'safer', 75: 'where', 76: 'human', 77: 'error', 78: 'concern', 79: 'wrong', 80: 'use', 81: 'default', 82: 'symbol', 83: 'instead', 84: 'often', 85: 'adjacent', 86: 'keyboards', 87: 'may', 88: 'permanently', 89: 'delete', 90: 'were', 91: 'needing', 92: 'read', 93: 'terms', 94: 'legibility', 95: 'sequence', 96: 'starting', 97: 'with', 98: 'connected', 99: 'pipes', 100: 'clear', 101: 'left', 102: 'right', 103: 'flow', 104: 'information', 105: 'one', 106: 'basic', 107: 'commands', 108: 'that', 109: 'learned', 110: 'started', 111: 'unix', 112: 'linux', 113: 'world', 114: 'lines', 115: 'received', 116: 'from', 117: 'can', 118: 'redirected', 119: 'file', 120: 'redirection', 121: 'symbols', 122: 'when', 123: 'type', 124: 'simply', 125: 'command', 126: 'without', 127: 'any', 128: 'arguments', 129: 'just', 130: 'receives', 131: 'stdin', 132: 'content', 133: 'displays', 134: 'it', 135: 'stdout', 136: 'october', 137: 'successor', 138: 'version', 139: 'is', 140: 'available', 141: 'two', 142: 'editions', 143: 'according', 144: 'changes', 145: 'enhancements', 146: 'over', 147: 'its', 148: 'predecessor', 149: 'mid', 150: 'some', 151: 'have', 152: 'firmware', 153: 'factory', 154: 'which', 155: 'will', 156: 'no', 157: 'longer', 158: 'allow', 159: 'since', 160: 'moved', 161: 'using', 162: 'intel', 163: 'processors', 164: 'their', 165: 'osx', 166: 'community', 167: 'developed', 168: 'now', 169: 'also', 170: 'allows', 171: 'tiger', 172: 'later', 173: 'releases', 174: 'be', 175: 'installed', 176: 'non', 177: 'based', 178: 'computers', 179: 'was', 180: 'july', 181: 'purchase', 182: 'download', 183: 'through', 184: 'app', 185: 'store', 186: 'as', 187: 'part', 188: 'switch', 189: 'online', 190: 'every', 191: 'year', 192: 'released', 193: 'small', 194: 'patch', 195: 'for', 196: 'three', 197: 'most', 198: 'recent', 199: 'versions', 200: 'safari', 201: 'running', 202: 'on', 203: 'yosemite', 204: 'mavericks', 205: 'and', 206: 'release', 207: 'marks', 208: 'second', 209: 'time', 210: 'has', 211: 'offered', 212: 'incremental', 213: 'upgrade', 214: 'rather', 215: 'releasing', 216: 'new', 217: 'cat', 218: 'entirely', 219: 'lion', 220: 'installs', 221: 'in', 222: 'place', 223: 'so', 224: 'you', 225: 'won', 226: 't', 227: 'need', 228: 'create', 229: 'separate', 230: 'disk', 231: 'or', 232: 'run', 233: 'installation', 234: 'off', 235: 'an', 236: 'external', 237: 'drive', 238: 'the', 239: 'fifth', 240: 'major', 241: 'update', 242: 'to', 243: 'mac', 244: 'os', 245: 'x', 246: 'leopard', 247: 'contains', 248: 'such', 249: 'a', 250: 'mountain', 251: 'of', 252: 'features', 253: 'more', 254: 'than', 255: 'by', 256: 'apple', 257: 's', 258: 'count'}\n"
     ]
    }
   ],
   "source": [
    "#Step 4\n",
    "#Создаем словарь, каждому уникальному слову присвоим индекс\n",
    "dictionary = {}\n",
    "for i in range(uniqueWord):\n",
    "    dictionary[i] = lowerStr[i]\n",
    "    \n",
    "print(dictionary)"
   ]
  },
  {
   "cell_type": "code",
   "execution_count": 39,
   "metadata": {},
   "outputs": [
    {
     "name": "stdout",
     "output_type": "stream",
     "text": [
      "The 1st sentence matrix: \n",
      " [1 1 1 1 1 1 1 0 0 0 0 0 0 0 0 0 0 0 0 0 0 0 0 0 0 0 0 0 0 0 0 0 0 0 0 1 0\n",
      " 0 0 0 0 0 0 0 0 0 0 0 0 0 0 0 0 0 0 1 0 0 0 0 0 0 0 0 0 0 0 0 0 0 0 0 0 0\n",
      " 0 0 0 0 0 0 0 0 0 0 0 0 0 0 0 0 0 0 0 0 0 0 0 0 0 0 0 0 0 0 0 0 0 0 0 0 0\n",
      " 0 0 0 0 0 0 0 0 0 0 0 0 0 0 0 0 0 0 0 0 0 0 0 0 0 0 0 0 0 0 0 0 0 1 0 0 0\n",
      " 0 0 0 1 0 0 0 0 0 0 0 0 0 0 0 0 0 0 0 0 0 0 0 0 0 0 0 0 0 0 0 0 0 0 0 0 0\n",
      " 0 0 0 0 0 0 0 0 0 0 0 0 0 0 0 0 0 0 0 0 0 0 0 0 0 0 0 0 0 0 0 0 0 0 0 0 1\n",
      " 0 0 0 0 0 0 0 0 0 0 0 0 0 0 0 0 1 0 1 0 1 0 0 0 0 0 0 0 0 0 0 0 0 0 0 0 0]\n"
     ]
    }
   ],
   "source": [
    "#Step 5\n",
    "#Создаем матрицу повторений уникальных слов в каждом предложении\n",
    "import numpy as np\n",
    "matrix = [0] * n\n",
    "\n",
    "for i in range(n):\n",
    "    matrix[i] = [0] * uniqueWord\n",
    "    for j in range(uniqueWord):\n",
    "        matrix[i][j] = emptyArr[i].count(dictionary[j])\n",
    "matrix = np.array(matrix)\n",
    "print(\"The 1st sentence matrix: \\n\", matrix[0])"
   ]
  },
  {
   "cell_type": "code",
   "execution_count": 63,
   "metadata": {},
   "outputs": [
    {
     "name": "stdout",
     "output_type": "stream",
     "text": [
      "The cosine distances: \n",
      " [0.9581146091708305, 0.8690692658584046, 0.9024099927051467, 0.7891814893221081, 0.9422649730810374, 0.7418011102528389, 0.9283885125960567, 0.8893433329655024, 0.9087129070824723, 0.8384854293825503, 0.889903623487364, 0.8450806661517033, 0.8747551417829701, 0.8222953366722723, 0.9461618097941834, 0.8460399282160997, 0.9581146091708305, 0.9461618097941834, 0.8923236195883669, 0.84808909493745, 0.8309691490542968]\n",
      "\n",
      "The answser is: 4 and 6\n"
     ]
    }
   ],
   "source": [
    "#Step 6\n",
    "#Найдем косинусное расстояние до первого предложения от остальных\n",
    "import scipy\n",
    "from scipy import spatial\n",
    "\n",
    "cosines = []\n",
    "for i in range(1,n):\n",
    "    cosines.append(scipy.spatial.distance.cosine(matrix[0], matrix[i]))\n",
    "print(\"The cosine distances: \\n\", cosines)\n",
    "print(\"\\nThe answser is: 4 and 6\")\n"
   ]
  }
 ],
 "metadata": {
  "kernelspec": {
   "display_name": "Python 3",
   "language": "python",
   "name": "python3"
  },
  "language_info": {
   "codemirror_mode": {
    "name": "ipython",
    "version": 3
   },
   "file_extension": ".py",
   "mimetype": "text/x-python",
   "name": "python",
   "nbconvert_exporter": "python",
   "pygments_lexer": "ipython3",
   "version": "3.6.5"
  }
 },
 "nbformat": 4,
 "nbformat_minor": 2
}
