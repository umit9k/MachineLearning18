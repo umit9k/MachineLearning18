{
 "cells": [
  {
   "cell_type": "code",
   "execution_count": 33,
   "metadata": {},
   "outputs": [
    {
     "name": "stdout",
     "output_type": "stream",
     "text": [
      "[[0.         1.         1.        ]\n",
      " [1.41421356 2.         0.        ]\n",
      " [0.         1.         1.        ]]\n"
     ]
    }
   ],
   "source": [
    "import numpy\n",
    "import math\n",
    "\n",
    "A = numpy.matrix([[0, 1, 1], [math.sqrt(2), 2, 0], [0, 1, 1]])\n",
    "print(A)"
   ]
  },
  {
   "cell_type": "code",
   "execution_count": 34,
   "metadata": {},
   "outputs": [
    {
     "name": "stdout",
     "output_type": "stream",
     "text": [
      "[[0.         1.41421356 0.        ]\n",
      " [1.         2.         1.        ]\n",
      " [1.         0.         1.        ]]\n"
     ]
    }
   ],
   "source": [
    "At = numpy.transpose(A)\n",
    "print(At)"
   ]
  },
  {
   "cell_type": "code",
   "execution_count": 35,
   "metadata": {},
   "outputs": [
    {
     "name": "stdout",
     "output_type": "stream",
     "text": [
      "[[2. 2. 2.]\n",
      " [2. 6. 2.]\n",
      " [2. 2. 2.]]\n"
     ]
    }
   ],
   "source": [
    "AAt = numpy.dot(A, At)\n",
    "print(AAt)"
   ]
  },
  {
   "cell_type": "code",
   "execution_count": 36,
   "metadata": {},
   "outputs": [
    {
     "name": "stdout",
     "output_type": "stream",
     "text": [
      "[[-4.08248290e-01 -7.07106781e-01  5.77350269e-01]\n",
      " [-8.16496581e-01  1.11954943e-16 -5.77350269e-01]\n",
      " [-4.08248290e-01  7.07106781e-01  5.77350269e-01]]\n"
     ]
    }
   ],
   "source": [
    "from numpy import linalg\n",
    "w, u = linalg.eig(AAt)\n",
    "print(u)"
   ]
  },
  {
   "cell_type": "code",
   "execution_count": 37,
   "metadata": {},
   "outputs": [
    {
     "name": "stdout",
     "output_type": "stream",
     "text": [
      "[[2.         2.82842712 0.        ]\n",
      " [2.82842712 6.         2.        ]\n",
      " [0.         2.         2.        ]]\n"
     ]
    }
   ],
   "source": [
    "AtA=numpy.dot(At, A)\n",
    "print(AtA)"
   ]
  },
  {
   "cell_type": "code",
   "execution_count": 38,
   "metadata": {
    "scrolled": true
   },
   "outputs": [
    {
     "name": "stdout",
     "output_type": "stream",
     "text": [
      "[[-4.08248290e-01  7.07106781e-01 -5.77350269e-01]\n",
      " [-8.66025404e-01 -5.00000000e-01 -7.84321844e-17]\n",
      " [-2.88675135e-01  5.00000000e-01  8.16496581e-01]]\n"
     ]
    }
   ],
   "source": [
    "h, v = linalg.eig(AtA)\n",
    "print(v)"
   ]
  },
  {
   "cell_type": "code",
   "execution_count": 39,
   "metadata": {},
   "outputs": [
    {
     "name": "stdout",
     "output_type": "stream",
     "text": [
      "[[1.]\n",
      " [1.]\n",
      " [1.]]\n"
     ]
    }
   ],
   "source": [
    "lengths = numpy.sqrt(numpy.sum(numpy.square(v), axis=1))\n",
    "print(lengths)"
   ]
  },
  {
   "cell_type": "code",
   "execution_count": 40,
   "metadata": {},
   "outputs": [
    {
     "name": "stdout",
     "output_type": "stream",
     "text": [
      "[[-4.08248290e-01  7.07106781e-01 -5.77350269e-01]\n",
      " [-8.66025404e-01 -5.00000000e-01 -7.84321844e-17]\n",
      " [-2.88675135e-01  5.00000000e-01  8.16496581e-01]]\n"
     ]
    }
   ],
   "source": [
    "for i in range(numpy.size(v, 0)):\n",
    "    for j in range(numpy.size(v, 1)):\n",
    "        v[i, j] = v[i, j]/lengths[i]\n",
    "\n",
    "\n",
    "Vt = numpy.transpose(v)\n",
    "print(v)"
   ]
  },
  {
   "cell_type": "code",
   "execution_count": 41,
   "metadata": {},
   "outputs": [
    {
     "name": "stdout",
     "output_type": "stream",
     "text": [
      "[[2.82842712e+00 0.00000000e+00 0.00000000e+00]\n",
      " [0.00000000e+00 1.13503446e-08 0.00000000e+00]\n",
      " [0.00000000e+00 0.00000000e+00 1.41421356e+00]]\n"
     ]
    }
   ],
   "source": [
    "eigenv = numpy.asarray(w)\n",
    "s = numpy.zeros(shape=(numpy.count_nonzero(eigenv),numpy.count_nonzero(eigenv)))\n",
    "S = numpy.asarray(s)\n",
    "\n",
    "for i in range(numpy.size(S, 0)):\n",
    "    for j in range(numpy.size(S, 1)):\n",
    "        if i==j:\n",
    "            S[i][j] = numpy.sqrt(eigenv[i])        \n",
    "\n",
    "print(S)"
   ]
  },
  {
   "cell_type": "code",
   "execution_count": 42,
   "metadata": {},
   "outputs": [
    {
     "name": "stdout",
     "output_type": "stream",
     "text": [
      "The answer is: \n",
      "Matrix S: [[2.82842712e+00 0.00000000e+00 0.00000000e+00]\n",
      " [0.00000000e+00 1.13503446e-08 0.00000000e+00]\n",
      " [0.00000000e+00 0.00000000e+00 1.41421356e+00]] \n",
      "\n",
      "Matrix U: [[-4.08248290e-01 -7.07106781e-01  5.77350269e-01]\n",
      " [-8.16496581e-01  1.11954943e-16 -5.77350269e-01]\n",
      " [-4.08248290e-01  7.07106781e-01  5.77350269e-01]] \n",
      "\n",
      "Matrix V (transposed): [[-4.08248290e-01 -8.66025404e-01 -2.88675135e-01]\n",
      " [ 7.07106781e-01 -5.00000000e-01  5.00000000e-01]\n",
      " [-5.77350269e-01 -7.84321844e-17  8.16496581e-01]]\n"
     ]
    }
   ],
   "source": [
    "print(\"The answer is: \")\n",
    "print(\"Matrix S:\", S, \"\\n\")\n",
    "print(\"Matrix U:\", u ,\"\\n\")\n",
    "print(\"Matrix V (transposed):\", Vt)"
   ]
  }
 ],
 "metadata": {
  "kernelspec": {
   "display_name": "Python 3",
   "language": "python",
   "name": "python3"
  },
  "language_info": {
   "codemirror_mode": {
    "name": "ipython",
    "version": 3
   },
   "file_extension": ".py",
   "mimetype": "text/x-python",
   "name": "python",
   "nbconvert_exporter": "python",
   "pygments_lexer": "ipython3",
   "version": "3.6.5"
  }
 },
 "nbformat": 4,
 "nbformat_minor": 2
}
