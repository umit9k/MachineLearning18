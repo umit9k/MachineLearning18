{
 "cells": [
  {
   "cell_type": "markdown",
   "metadata": {},
   "source": [
    "## Part 2: metric methods and categorical features\n",
    "\n",
    "All further experiments are proposed to be conducted on the Amazon Employee Access Challenge: https://www.kaggle.com/c/amazon-employee-access-challenge\n",
    "\n",
    "In this task, it is proposed to predict whether an employee’s request for access to a particular resource will be approved. All signs are categorical.\n",
    "\n",
    "File: amazon.csv in archive\n",
    "\n",
    "Immediately read the data and create a partition for learning and control:"
   ]
  },
  {
   "cell_type": "code",
   "execution_count": 3,
   "metadata": {
    "collapsed": true
   },
   "outputs": [],
   "source": [
    "import numpy as np\n",
    "import pandas as pd"
   ]
  },
  {
   "cell_type": "code",
   "execution_count": 4,
   "metadata": {},
   "outputs": [],
   "source": [
    "data = pd.read_csv('amazon.csv')"
   ]
  },
  {
   "cell_type": "code",
   "execution_count": 3,
   "metadata": {
    "collapsed": true
   },
   "outputs": [],
   "source": [
    "from sklearn.cross_validation import train_test_split\n",
    "X_train, X_test, y_train, y_test = train_test_split(data.iloc[:, 1:], data.iloc[:, 0],\n",
    "                                                    test_size=0.3, random_state=241)"
   ]
  },
  {
   "cell_type": "markdown",
   "metadata": {},
   "source": [
    "#### 1. Implement three distance functions on categorical features.\n",
    "\n",
    "The easiest way is to define the metrics as [user-defined distance] (http://scikit-learn.org/stable/modules/generated/sklearn.neighbors.DistanceMetric.html), then use the kNN implementation from sklearn (in this case use function predict_proba).\n",
    "\n",
    "Try to pay special attention to the effectiveness of the code - when implementing metrics \"in the forehead\" you may encounter a very long execution time.\n",
    "\n",
    "#### Count for each of the metrics the quality on the test sample `X_test` with the number of neighbors k = 10. A measure of quality - AUC-ROC.\n",
    "\n",
    "### What is the best distance function?"
   ]
  },
  {
   "cell_type": "code",
   "execution_count": 4,
   "metadata": {},
   "outputs": [],
   "source": [
    "X_train_np, y_train_np, X_test_np, y_test_np = np.array(X_train), np.array(y_train), np.array(X_test), np.array(y_test)"
   ]
  },
  {
   "cell_type": "code",
   "execution_count": 5,
   "metadata": {
    "collapsed": true
   },
   "outputs": [],
   "source": [
    "del X_train, y_train, X_test, y_test, data"
   ]
  },
  {
   "cell_type": "code",
   "execution_count": 19,
   "metadata": {
    "collapsed": true
   },
   "outputs": [],
   "source": [
    "f = lambda v: np.argsort(np.apply_along_axis(np.count_nonzero, 1, X_train_np - v))"
   ]
  },
  {
   "cell_type": "code",
   "execution_count": 22,
   "metadata": {},
   "outputs": [
    {
     "data": {
      "text/plain": [
       "792.8109059333801"
      ]
     },
     "execution_count": 22,
     "metadata": {},
     "output_type": "execute_result"
    }
   ],
   "source": [
    "a = time.time()\n",
    "d_matrix = np.apply_along_axis(f, 1, X_test_np)\n",
    "time.time() - a"
   ]
  },
  {
   "cell_type": "code",
   "execution_count": 70,
   "metadata": {},
   "outputs": [],
   "source": [
    "from sklearn.metrics import roc_auc_score\n",
    "vote = lambda x: get_majority_vote(x, y_train_np)"
   ]
  },
  {
   "cell_type": "code",
   "execution_count": 237,
   "metadata": {},
   "outputs": [
    {
     "data": {
      "text/plain": [
       "0.83088009598014845"
      ]
     },
     "execution_count": 237,
     "metadata": {},
     "output_type": "execute_result"
    }
   ],
   "source": [
    "ans = np.apply_along_axis(vote, 1, d_matrix[:,:10])\n",
    "roc_auc_score(y_test_np, ans)"
   ]
  },
  {
   "cell_type": "code",
   "execution_count": 193,
   "metadata": {},
   "outputs": [],
   "source": [
    "l = X_train_np.shape[0]\n",
    "u = []\n",
    "for i in range(9): \n",
    "    u1 = np.unique(X_train_np[:,i], return_counts=True)\n",
    "    u1 = list(zip(u1[0], u1[1]/l, np.multiply(u1[1], u1[1]-1)/l/(l-1)))\n",
    "    u1.sort(key=lambda x: x[1], reverse=False)\n",
    "    u.append(u1)"
   ]
  },
  {
   "cell_type": "code",
   "execution_count": 239,
   "metadata": {},
   "outputs": [],
   "source": [
    "def get_sum(value, u, indexes):\n",
    "    weight = 0\n",
    "    #for j in indexes:\n",
    "    j = indexes\n",
    "    current_p = 1\n",
    "    c = 0\n",
    "    while c < len(u[j]) and current_p >= u[j][c][1]:\n",
    "        weight += u[j][c][2]\n",
    "        if value == u[j][c][0]:\n",
    "            current_p = u[j][c][1]\n",
    "        c+=1\n",
    "    return (weight)"
   ]
  },
  {
   "cell_type": "code",
   "execution_count": 242,
   "metadata": {},
   "outputs": [],
   "source": [
    "d = [dict(), dict(), dict(), dict(), dict(), dict(), dict(), dict(), dict()]\n",
    "for i in range(9): \n",
    "    for value in u[i]:\n",
    "        d[i][value[0]] = get_sum(value[0], u, i)"
   ]
  },
  {
   "cell_type": "code",
   "execution_count": 247,
   "metadata": {},
   "outputs": [],
   "source": [
    "d = np.array(d)"
   ]
  },
  {
   "cell_type": "code",
   "execution_count": 260,
   "metadata": {},
   "outputs": [],
   "source": [
    "def get_metric_2(xv, v):\n",
    "    indexes = np.where(xv==0)[0]\n",
    "#     print(indexes)\n",
    "    dist = len(xv) - len(indexes)\n",
    "    \n",
    "    for i in indexes:\n",
    "        try:\n",
    "            dist += d[i][v[i]]\n",
    "        except:\n",
    "            print(i, v[i])\n",
    "            raise\n",
    "    return dist"
   ]
  },
  {
   "cell_type": "code",
   "execution_count": 261,
   "metadata": {
    "collapsed": true
   },
   "outputs": [],
   "source": [
    "f2 = lambda v: np.argsort(np.apply_along_axis(get_metric_2, 1, X_train_np - v, v))"
   ]
  },
  {
   "cell_type": "code",
   "execution_count": 271,
   "metadata": {},
   "outputs": [
    {
     "data": {
      "text/plain": [
       "1734.2014150619507"
      ]
     },
     "execution_count": 271,
     "metadata": {},
     "output_type": "execute_result"
    }
   ],
   "source": [
    "a = time.time()\n",
    "d_matrix_2 = np.apply_along_axis(f2, 1, X_test_np)\n",
    "time.time() - a"
   ]
  },
  {
   "cell_type": "code",
   "execution_count": 326,
   "metadata": {},
   "outputs": [],
   "source": [
    "np.savetxt(\"d_metric3.csv\", d_matrix_3, delimiter=\",\")"
   ]
  },
  {
   "cell_type": "code",
   "execution_count": 325,
   "metadata": {},
   "outputs": [
    {
     "data": {
      "text/plain": [
       "0.83423907769345729"
      ]
     },
     "execution_count": 325,
     "metadata": {},
     "output_type": "execute_result"
    }
   ],
   "source": [
    "ans_metric2 = np.apply_along_axis(vote, 1, d_matrix_2[:,:10])\n",
    "roc_auc_score(y_test_np, ans_metric2)"
   ]
  },
  {
   "cell_type": "code",
   "execution_count": 312,
   "metadata": {
    "collapsed": true
   },
   "outputs": [],
   "source": [
    "l = X_train_np.shape[0]\n",
    "m = []\n",
    "for i in range(9): \n",
    "    u1 = np.unique(X_train_np[:,i], return_counts=True)\n",
    "    u1 = dict(zip(u1[0], np.log(u1[1]/l + 1)))\n",
    "    m.append(u1)"
   ]
  },
  {
   "cell_type": "code",
   "execution_count": 314,
   "metadata": {},
   "outputs": [],
   "source": [
    "def get_metric_3(xv, v):\n",
    "    indexes = np.where(xv!=0)[0]\n",
    "    dist = 0#len(xv) - len(indexes)\n",
    "    \n",
    "    for i in indexes:\n",
    "        try:\n",
    "            dist += m[i].get(v[i],0)*m[i][xv[i]+v[i]]\n",
    "        except:\n",
    "            print(i, v[i], xv[i]+v[i])\n",
    "            raise\n",
    "    return dist"
   ]
  },
  {
   "cell_type": "code",
   "execution_count": 316,
   "metadata": {
    "collapsed": true
   },
   "outputs": [],
   "source": [
    "f3 = lambda v: np.argsort(np.apply_along_axis(get_metric_3, 1, X_train_np - v, v))"
   ]
  },
  {
   "cell_type": "code",
   "execution_count": 320,
   "metadata": {},
   "outputs": [
    {
     "data": {
      "text/plain": [
       "4017.9494671821594"
      ]
     },
     "execution_count": 320,
     "metadata": {},
     "output_type": "execute_result"
    }
   ],
   "source": [
    "a = time.time()\n",
    "d_matrix_3 = np.apply_along_axis(f3, 1, X_test_np)\n",
    "time.time() - a"
   ]
  },
  {
   "cell_type": "code",
   "execution_count": 324,
   "metadata": {},
   "outputs": [
    {
     "data": {
      "text/plain": [
       "0.80123107551392003"
      ]
     },
     "execution_count": 324,
     "metadata": {},
     "output_type": "execute_result"
    }
   ],
   "source": [
    "ans_metric3 = np.apply_along_axis(vote, 1, d_matrix_3[:,:10])\n",
    "roc_auc_score(y_test_np, ans_metric3)"
   ]
  },
  {
   "cell_type": "markdown",
   "metadata": {},
   "source": [
    "Answer: 1st metric AUC-ROC = 0.83088009598014845;  2nd: 0.83423907769345729;  3rd: 0.80123107551392003\n",
    "Best: 2nd one."
   ]
  },
  {
   "cell_type": "markdown",
   "metadata": {},
   "source": [
    "#### 2 (bonus). Pick the best (on the test sample) the number of neighbors k for each of the distance functions. What is the best quality possible to get?\n",
    "\n",
    "For the selection, you can use any means of sklearn."
   ]
  },
  {
   "cell_type": "code",
   "execution_count": 328,
   "metadata": {},
   "outputs": [],
   "source": [
    "aucs_1 = []\n",
    "for K in range(1, 100):\n",
    "    aucs_1.append(roc_auc_score(y_test_np, np.apply_along_axis(vote, 1, d_matrix[:,:K])))\n"
   ]
  },
  {
   "cell_type": "code",
   "execution_count": 158,
   "metadata": {},
   "outputs": [],
   "source": [
    "import matplotlib.pyplot as plt\n",
    "%matplotlib inline"
   ]
  },
  {
   "cell_type": "code",
   "execution_count": 341,
   "metadata": {},
   "outputs": [
    {
     "data": {
      "text/plain": [
       "0.83120195870812086"
      ]
     },
     "execution_count": 341,
     "metadata": {},
     "output_type": "execute_result"
    }
   ],
   "source": [
    "max(aucs_1)"
   ]
  },
  {
   "cell_type": "code",
   "execution_count": 336,
   "metadata": {},
   "outputs": [
    {
     "data": {
      "text/plain": [
       "[<matplotlib.lines.Line2D at 0x112501cf8>]"
      ]
     },
     "execution_count": 336,
     "metadata": {},
     "output_type": "execute_result"
    },
    {
     "data": {
      "image/png": "[encoded data removed]",
      "text/plain": [
       "<matplotlib.figure.Figure at 0x111afab38>"
      ]
     },
     "metadata": {},
     "output_type": "display_data"
    }
   ],
   "source": [
    "plt.plot(range(1,100), aucs_1)"
   ]
  },
  {
   "cell_type": "markdown",
   "metadata": {},
   "source": [
    " k=11 max for the first one"
   ]
  },
  {
   "cell_type": "code",
   "execution_count": 339,
   "metadata": {
    "collapsed": true
   },
   "outputs": [],
   "source": [
    "aucs_2 = []\n",
    "for K in range(1, 100):\n",
    "    aucs_2.append(roc_auc_score(y_test_np, np.apply_along_axis(vote, 1, d_matrix_2[:,:K])))"
   ]
  },
  {
   "cell_type": "code",
   "execution_count": 340,
   "metadata": {},
   "outputs": [
    {
     "data": {
      "text/plain": [
       "[<matplotlib.lines.Line2D at 0x1125756d8>]"
      ]
     },
     "execution_count": 340,
     "metadata": {},
     "output_type": "execute_result"
    },
    {
     "data": {
      "image/png": "[encoded data removed]",
      "text/plain": [
       "<matplotlib.figure.Figure at 0x11229c668>"
      ]
     },
     "metadata": {},
     "output_type": "display_data"
    }
   ],
   "source": [
    "plt.plot(range(1,100), aucs_2)"
   ]
  },
  {
   "cell_type": "code",
   "execution_count": 342,
   "metadata": {},
   "outputs": [
    {
     "data": {
      "text/plain": [
       "0.83607114334410881"
      ]
     },
     "execution_count": 342,
     "metadata": {},
     "output_type": "execute_result"
    }
   ],
   "source": [
    "max(aucs_2)"
   ]
  },
  {
   "cell_type": "markdown",
   "metadata": {},
   "source": [
    "max for k==8 "
   ]
  },
  {
   "cell_type": "code",
   "execution_count": 344,
   "metadata": {
    "collapsed": true
   },
   "outputs": [],
   "source": [
    "aucs_3 = []\n",
    "for K in range(1, 100):\n",
    "    aucs_3.append(roc_auc_score(y_test_np, np.apply_along_axis(vote, 1, d_matrix_3[:,:K])))"
   ]
  },
  {
   "cell_type": "code",
   "execution_count": 345,
   "metadata": {},
   "outputs": [
    {
     "data": {
      "text/plain": [
       "0.80464064592512075"
      ]
     },
     "execution_count": 345,
     "metadata": {},
     "output_type": "execute_result"
    }
   ],
   "source": [
    "max(aucs_3)"
   ]
  },
  {
   "cell_type": "code",
   "execution_count": 346,
   "metadata": {},
   "outputs": [
    {
     "data": {
      "text/plain": [
       "[<matplotlib.lines.Line2D at 0x10869c7b8>]"
      ]
     },
     "execution_count": 346,
     "metadata": {},
     "output_type": "execute_result"
    },
    {
     "data": {
      "image/png": "[encoded data removed]",
      "text/plain": [
       "<matplotlib.figure.Figure at 0x108669898>"
      ]
     },
     "metadata": {},
     "output_type": "display_data"
    }
   ],
   "source": [
    "plt.plot(range(1,100), aucs_3)"
   ]
  },
  {
   "cell_type": "markdown",
   "metadata": {},
   "source": [
    "for k==11 max"
   ]
  },
  {
   "cell_type": "markdown",
   "metadata": {},
   "source": [
    "#### 3. Implement the counters (http://blogs.technet.com/b/machinelearning/archive/2015/02/17/big-learning-made-easy-with-counts.aspx) that will replace the categorical features on real.\n",
    "\n",
    "Namely, each categorical attribute must be replaced by three:\n",
    "1. The number of `counts` of objects in the training set with the same characteristic value.\n",
    "2. The number of `successes` objects of the first class y = 1 in the training sample with the same attribute value.\n",
    "3. The smoothed ratio of the two previous values: (`successes` + 1) / (` counts` + 2).\n",
    "\n",
    "Since attributes containing information about the target variable may lead to retraining, it may be useful to do * folding *: split the training set into n parts, and for the i-th part, consider `counts` and` successes` for all the rest parts. For the test sample, counters are counted for the entire training sample. Implement this option. You can use n = 3.\n",
    "\n",
    "#### On the AUC-ROC method, test the k closest neighbors with a Euclidean metric for a sample where categorical features are replaced by counters. Compare the AUC-ROC two options for forming the sample - with and without folding. Do not forget to choose the best number of neighbors k."
   ]
  },
  {
   "cell_type": "code",
   "execution_count": 7,
   "metadata": {},
   "outputs": [],
   "source": [
    "from sklearn.cross_validation import KFold"
   ]
  },
  {
   "cell_type": "code",
   "execution_count": 11,
   "metadata": {
    "scrolled": true
   },
   "outputs": [
    {
     "data": {
      "text/html": [
       "<div style=\"max-height:1000px;max-width:1500px;overflow:auto;\">\n",
       "<table border=\"1\" class=\"dataframe\">\n",
       "  <thead>\n",
       "    <tr style=\"text-align: right;\">\n",
       "      <th></th>\n",
       "      <th>ACTION</th>\n",
       "      <th>RESOURCE</th>\n",
       "      <th>MGR_ID</th>\n",
       "      <th>ROLE_ROLLUP_1</th>\n",
       "      <th>ROLE_ROLLUP_2</th>\n",
       "      <th>ROLE_DEPTNAME</th>\n",
       "      <th>ROLE_TITLE</th>\n",
       "      <th>ROLE_FAMILY_DESC</th>\n",
       "      <th>ROLE_FAMILY</th>\n",
       "      <th>ROLE_CODE</th>\n",
       "    </tr>\n",
       "  </thead>\n",
       "  <tbody>\n",
       "    <tr>\n",
       "      <th>0</th>\n",
       "      <td> 1</td>\n",
       "      <td> 39353</td>\n",
       "      <td> 85475</td>\n",
       "      <td> 117961</td>\n",
       "      <td> 118300</td>\n",
       "      <td> 123472</td>\n",
       "      <td> 117905</td>\n",
       "      <td> 117906</td>\n",
       "      <td> 290919</td>\n",
       "      <td> 117908</td>\n",
       "    </tr>\n",
       "    <tr>\n",
       "      <th>1</th>\n",
       "      <td> 1</td>\n",
       "      <td> 17183</td>\n",
       "      <td>  1540</td>\n",
       "      <td> 117961</td>\n",
       "      <td> 118343</td>\n",
       "      <td> 123125</td>\n",
       "      <td> 118536</td>\n",
       "      <td> 118536</td>\n",
       "      <td> 308574</td>\n",
       "      <td> 118539</td>\n",
       "    </tr>\n",
       "    <tr>\n",
       "      <th>2</th>\n",
       "      <td> 1</td>\n",
       "      <td> 36724</td>\n",
       "      <td> 14457</td>\n",
       "      <td> 118219</td>\n",
       "      <td> 118220</td>\n",
       "      <td> 117884</td>\n",
       "      <td> 117879</td>\n",
       "      <td> 267952</td>\n",
       "      <td>  19721</td>\n",
       "      <td> 117880</td>\n",
       "    </tr>\n",
       "    <tr>\n",
       "      <th>3</th>\n",
       "      <td> 1</td>\n",
       "      <td> 36135</td>\n",
       "      <td>  5396</td>\n",
       "      <td> 117961</td>\n",
       "      <td> 118343</td>\n",
       "      <td> 119993</td>\n",
       "      <td> 118321</td>\n",
       "      <td> 240983</td>\n",
       "      <td> 290919</td>\n",
       "      <td> 118322</td>\n",
       "    </tr>\n",
       "    <tr>\n",
       "      <th>4</th>\n",
       "      <td> 1</td>\n",
       "      <td> 42680</td>\n",
       "      <td>  5905</td>\n",
       "      <td> 117929</td>\n",
       "      <td> 117930</td>\n",
       "      <td> 119569</td>\n",
       "      <td> 119323</td>\n",
       "      <td> 123932</td>\n",
       "      <td>  19793</td>\n",
       "      <td> 119325</td>\n",
       "    </tr>\n",
       "  </tbody>\n",
       "</table>\n",
       "</div>"
      ],
      "text/plain": [
       "   ACTION  RESOURCE  MGR_ID  ROLE_ROLLUP_1  ROLE_ROLLUP_2  ROLE_DEPTNAME  \\\n",
       "0       1     39353   85475         117961         118300         123472   \n",
       "1       1     17183    1540         117961         118343         123125   \n",
       "2       1     36724   14457         118219         118220         117884   \n",
       "3       1     36135    5396         117961         118343         119993   \n",
       "4       1     42680    5905         117929         117930         119569   \n",
       "\n",
       "   ROLE_TITLE  ROLE_FAMILY_DESC  ROLE_FAMILY  ROLE_CODE  \n",
       "0      117905            117906       290919     117908  \n",
       "1      118536            118536       308574     118539  \n",
       "2      117879            267952        19721     117880  \n",
       "3      118321            240983       290919     118322  \n",
       "4      119323            123932        19793     119325  "
      ]
     },
     "execution_count": 11,
     "metadata": {},
     "output_type": "execute_result"
    }
   ],
   "source": [
    "data.head()"
   ]
  },
  {
   "cell_type": "code",
   "execution_count": 18,
   "metadata": {},
   "outputs": [
    {
     "data": {
      "text/plain": [
       "array([  3,  30,   2, ..., 161,   7, 127])"
      ]
     },
     "execution_count": 18,
     "metadata": {},
     "output_type": "execute_result"
    }
   ],
   "source": [
    "data.RESOURCE.value_counts()[data.RESOURCE].values"
   ]
  },
  {
   "cell_type": "code",
   "execution_count": 146,
   "metadata": {},
   "outputs": [],
   "source": [
    "def counterize(data, test_data, target='ACTION', nf=1):\n",
    "    alpha = 1.0\n",
    "    if nf != 1:\n",
    "        alpha =  float(nf - 1)/(float(nf))\n",
    "        \n",
    "    new_data = pd.DataFrame()\n",
    "    new_test = pd.DataFrame()\n",
    "    for column in data.columns:\n",
    "        if column == target:\n",
    "            continue\n",
    "        value_counts = data[column].value_counts()\n",
    "        succecc_counts = data[data[target]==1][column].value_counts()\n",
    "        \n",
    "        new_data[column + '_count'] = value_counts[data[column]].values*alpha\n",
    "        new_data[column + '_succecc'] = succecc_counts[data[column]].values*alpha\n",
    "        new_data[column + '_p']  = (value_counts[data[column]]*alpha + 1.0).values/(succecc_counts[data[column]]*alpha + 2.0).values\n",
    "        \n",
    "        new_test[column + '_count'] = value_counts[test_data[column]].values*alpha\n",
    "        new_test[column + '_succecc'] = succecc_counts[test_data[column]].values*alpha\n",
    "        new_test[column + '_p']  = (value_counts[test_data[column]]*alpha + 1.0).values/(succecc_counts[test_data[column]]*alpha + 2.0).values\n",
    "                \n",
    "    new_data.index = data.index\n",
    "    new_test.index = test_data.index\n",
    "    new_test = new_test.fillna(0)\n",
    "    new_data = new_data.fillna(0)\n",
    "    return new_data, new_test"
   ]
  },
  {
   "cell_type": "code",
   "execution_count": 147,
   "metadata": {
    "collapsed": true
   },
   "outputs": [],
   "source": [
    "from sklearn.cross_validation import train_test_split\n",
    "X_train, X_test, y_train, y_test = train_test_split(data.iloc[:, 1:], data.iloc[:, 0],\n",
    "                                                    test_size=0.3, random_state=241)"
   ]
  },
  {
   "cell_type": "code",
   "execution_count": 148,
   "metadata": {},
   "outputs": [],
   "source": [
    "new_train, new_test = counterize(pd.concat([X_train, y_train], axis=1), X_test)"
   ]
  },
  {
   "cell_type": "code",
   "execution_count": 149,
   "metadata": {},
   "outputs": [],
   "source": [
    "from sklearn.cross_validation import KFold"
   ]
  },
  {
   "cell_type": "code",
   "execution_count": 150,
   "metadata": {},
   "outputs": [],
   "source": [
    "def counterize_fold(X_train, y_train, X_test, num_folds=3):\n",
    "    kf = KFold(X_train.shape[0], num_folds)\n",
    "    new_data = pd.DataFrame()\n",
    "    new_test = pd.DataFrame()\n",
    "    new_train_target = pd.Series()\n",
    "    for train, test in kf:\n",
    "        kf_train = X_train.iloc[train].copy()\n",
    "        kf_test = X_train.iloc[test].copy()\n",
    "        kf_y_train = y_train.iloc[train]\n",
    "        kf_y_test = y_train.iloc[test]\n",
    "        \n",
    "        new_kf_train, new_kf_test = counterize(pd.concat([kf_train, kf_y_train], axis=1), kf_test)\n",
    "        \n",
    "        new_data = new_data.append(new_kf_test.copy())\n",
    "        new_train_target = new_train_target.append(kf_y_test) \n",
    "    new_train_all, new_test_all = counterize(pd.concat([X_train, y_train], axis=1), X_test, nf=num_folds)\n",
    "    \n",
    "    return new_data, new_train_target, new_test_all"
   ]
  },
  {
   "cell_type": "code",
   "execution_count": 151,
   "metadata": {},
   "outputs": [],
   "source": [
    "x_t, y_t, x_tst = counterize_fold(X_train, y_train, X_test)"
   ]
  },
  {
   "cell_type": "code",
   "execution_count": 152,
   "metadata": {
    "collapsed": true
   },
   "outputs": [],
   "source": [
    "from sklearn.neighbors import KNeighborsClassifier"
   ]
  },
  {
   "cell_type": "code",
   "execution_count": 157,
   "metadata": {},
   "outputs": [],
   "source": [
    "aucs_counters = []\n",
    "for K in range(1, 200):\n",
    "    clf =  KNeighborsClassifier(n_neighbors=K, weights='distance')\n",
    "    clf.fit(x_t, y_t)\n",
    "    aucs_counters.append(roc_auc_score(y_test, clf.predict_proba(x_tst)[:,1]))"
   ]
  },
  {
   "cell_type": "code",
   "execution_count": 159,
   "metadata": {},
   "outputs": [
    {
     "data": {
      "text/plain": [
       "[<matplotlib.lines.Line2D at 0x115c58b00>]"
      ]
     },
     "execution_count": 159,
     "metadata": {},
     "output_type": "execute_result"
    },
    {
     "data": {
      "image/png": "[encoded data removed]",
      "text/plain": [
       "<matplotlib.figure.Figure at 0x10fc52550>"
      ]
     },
     "metadata": {},
     "output_type": "display_data"
    }
   ],
   "source": [
    "plt.plot(range(1,200), aucs_counters)"
   ]
  },
  {
   "cell_type": "code",
   "execution_count": null,
   "metadata": {
    "collapsed": true
   },
   "outputs": [],
   "source": []
  },
  {
   "cell_type": "code",
   "execution_count": 160,
   "metadata": {
    "collapsed": true
   },
   "outputs": [],
   "source": [
    "aucs_counters_withoutfold = []\n",
    "for K in range(1, 50):\n",
    "    clf =  KNeighborsClassifier(n_neighbors=K, weights='distance')\n",
    "    clf.fit(new_train, y_t)\n",
    "    aucs_counters_withoutfold.append(roc_auc_score(y_test, clf.predict_proba(new_test)[:,1]))"
   ]
  },
  {
   "cell_type": "code",
   "execution_count": 161,
   "metadata": {},
   "outputs": [
    {
     "data": {
      "text/plain": [
       "[<matplotlib.lines.Line2D at 0x10637d128>]"
      ]
     },
     "execution_count": 161,
     "metadata": {},
     "output_type": "execute_result"
    },
    {
     "data": {
      "image/png": "[encoded data removed]",
      "text/plain": [
       "<matplotlib.figure.Figure at 0x115c252b0>"
      ]
     },
     "metadata": {},
     "output_type": "display_data"
    }
   ],
   "source": [
    "plt.plot(range(1,50), aucs_counters_withoutfold)"
   ]
  },
  {
   "cell_type": "markdown",
   "metadata": {},
   "source": [
    "without folding is better"
   ]
  },
  {
   "cell_type": "markdown",
   "metadata": {},
   "source": [
    "#### 4. Add paired signs to the original sample — that is, for each pair f(i), f(j),  i <j  of the original categorical signs, add a new categorical sign f(ij), the value of which is a concatenation of values f(i) and f(j) (preferably through some special character to avoid collisions). Count the counters for this sample, find the quality of the k nearest neighbors method with the best k (with and without folding)."
   ]
  },
  {
   "cell_type": "code",
   "execution_count": 162,
   "metadata": {
    "collapsed": true
   },
   "outputs": [],
   "source": [
    "def create_new_columns(data):\n",
    "    new_data = data.copy()\n",
    "    all_columns = list(data.columns.values)\n",
    "    for i in range(len(all_columns)):\n",
    "        for j in range(i+1, len(all_columns)):\n",
    "            new_data[all_columns[i] + \";\" + all_columns[j]] = (new_data[all_columns[i]].map(str)+  \";\" + new_data[all_columns[j]].map(str))\n",
    "    return new_data\n"
   ]
  },
  {
   "cell_type": "code",
   "execution_count": 163,
   "metadata": {
    "collapsed": true
   },
   "outputs": [],
   "source": [
    "X_train, X_test, y_train, y_test = train_test_split(data.iloc[:, 1:], data.iloc[:, 0],\n",
    "                                                    test_size=0.3, random_state=241)\n",
    "X_train = create_new_columns(X_train)\n",
    "X_test = create_new_columns(X_test)"
   ]
  },
  {
   "cell_type": "code",
   "execution_count": 165,
   "metadata": {},
   "outputs": [],
   "source": [
    "new_train, new_test = counterize(pd.concat([X_train, y_train], axis=1), X_test)"
   ]
  },
  {
   "cell_type": "code",
   "execution_count": 166,
   "metadata": {
    "collapsed": true
   },
   "outputs": [],
   "source": [
    "x_t, y_t, x_tst = counterize_fold(X_train, y_train, X_test)"
   ]
  },
  {
   "cell_type": "code",
   "execution_count": 167,
   "metadata": {
    "collapsed": true
   },
   "outputs": [],
   "source": [
    "aucs_counters_pairs = []\n",
    "for K in range(1, 50):\n",
    "    clf =  KNeighborsClassifier(n_neighbors=K, weights='distance')\n",
    "    clf.fit(new_train, y_train)\n",
    "    aucs_counters_pairs.append(roc_auc_score(y_test, clf.predict_proba(new_test)[:,1]))"
   ]
  },
  {
   "cell_type": "code",
   "execution_count": 168,
   "metadata": {},
   "outputs": [
    {
     "data": {
      "text/plain": [
       "[<matplotlib.lines.Line2D at 0x10aedccf8>]"
      ]
     },
     "execution_count": 168,
     "metadata": {},
     "output_type": "execute_result"
    },
    {
     "data": {
      "image/png": "[encoded data removed]",
      "text/plain": [
       "<matplotlib.figure.Figure at 0x1068dbc18>"
      ]
     },
     "metadata": {},
     "output_type": "display_data"
    }
   ],
   "source": [
    "plt.plot(range(1,50), aucs_counters_pairs)"
   ]
  },
  {
   "cell_type": "code",
   "execution_count": 169,
   "metadata": {
    "collapsed": true
   },
   "outputs": [],
   "source": [
    "aucs_counters_pairs_fold = []\n",
    "for K in range(1, 50):\n",
    "    clf =  KNeighborsClassifier(n_neighbors=K, weights='distance')\n",
    "    clf.fit(x_t, y_t)\n",
    "    aucs_counters_pairs_fold.append(roc_auc_score(y_test, clf.predict_proba(x_tst)[:,1]))"
   ]
  },
  {
   "cell_type": "code",
   "execution_count": 174,
   "metadata": {},
   "outputs": [
    {
     "data": {
      "text/plain": [
       "[<matplotlib.lines.Line2D at 0x111a806a0>]"
      ]
     },
     "execution_count": 174,
     "metadata": {},
     "output_type": "execute_result"
    },
    {
     "data": {
      "image/png": "[encoded data removed]",
      "text/plain": [
       "<matplotlib.figure.Figure at 0x1119daf98>"
      ]
     },
     "metadata": {},
     "output_type": "display_data"
    }
   ],
   "source": [
    "plt.plot(range(1,50), aucs_counters_pairs_fold)"
   ]
  },
  {
   "cell_type": "markdown",
   "metadata": {},
   "source": [
    "So, this one is much better than with paired features"
   ]
  },
  {
   "cell_type": "markdown",
   "metadata": {},
   "source": [
    "## Part 3: Decisive trees and forests"
   ]
  },
  {
   "cell_type": "markdown",
   "metadata": {},
   "source": [
    "#### 1. Take from the previous section a dataset with paired features, converted using counters without folding. Set up the decision tree by selecting the optimal values for the `max_depth` and` min_samples_leaf` parameters. What is the best AUC-ROC ?"
   ]
  },
  {
   "cell_type": "code",
   "execution_count": 175,
   "metadata": {
    "collapsed": true
   },
   "outputs": [],
   "source": [
    "from sklearn.cross_validation import train_test_split\n",
    "X_train, X_test, y_train, y_test = train_test_split(data.iloc[:, 1:], data.iloc[:, 0],\n",
    "                                                    test_size=0.3, random_state=241)\n",
    "from sklearn.tree import DecisionTreeClassifier\n",
    "X_train = create_new_columns(X_train)\n",
    "X_test = create_new_columns(X_test)\n",
    "X_train, X_test =  counterize(pd.concat([X_train, y_train], axis=1), X_test)\n"
   ]
  },
  {
   "cell_type": "code",
   "execution_count": 193,
   "metadata": {},
   "outputs": [
    {
     "name": "stdout",
     "output_type": "stream",
     "text": [
      "0.578786011425\n"
     ]
    }
   ],
   "source": [
    "clf =  DecisionTreeClassifier(max_depth=1, min_samples_leaf=5)\n",
    "clf.fit(X_train, y_train)\n",
    "from sklearn.metrics import roc_auc_score\n",
    "print(roc_auc_score(y_test, clf.predict_proba(X_test)[:,1]))"
   ]
  },
  {
   "cell_type": "markdown",
   "metadata": {},
   "source": [
    "#### 2. Set up a random forest, picking up a number of trees `n_estimators`, in which the error goes on the asymptote. What quality on the test sample does it give?"
   ]
  },
  {
   "cell_type": "code",
   "execution_count": 196,
   "metadata": {},
   "outputs": [
    {
     "name": "stdout",
     "output_type": "stream",
     "text": [
      "0.680726820313\n"
     ]
    }
   ],
   "source": [
    "from sklearn.ensemble import RandomForestClassifier\n",
    "clf = RandomForestClassifier(n_estimators=500)\n",
    "clf.fit(X_train, y_train)\n",
    "print( roc_auc_score(y_test, clf.predict_proba(X_test)[:,1]))"
   ]
  }
 ],
 "metadata": {
  "kernelspec": {
   "display_name": "Python 3",
   "language": "python",
   "name": "python3"
  },
  "language_info": {
   "codemirror_mode": {
    "name": "ipython",
    "version": 3
   },
   "file_extension": ".py",
   "mimetype": "text/x-python",
   "name": "python",
   "nbconvert_exporter": "python",
   "pygments_lexer": "ipython3",
   "version": "3.6.5"
  }
 },
 "nbformat": 4,
 "nbformat_minor": 1
}
